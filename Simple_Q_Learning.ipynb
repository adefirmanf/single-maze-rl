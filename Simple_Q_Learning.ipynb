{
  "nbformat": 4,
  "nbformat_minor": 0,
  "metadata": {
    "colab": {
      "name": "Simple Q-Learning.ipynb",
      "provenance": [],
      "collapsed_sections": [],
      "authorship_tag": "ABX9TyNC32rKxE5ZBZ8BNExCBEzT",
      "include_colab_link": true
    },
    "kernelspec": {
      "display_name": "Python 3",
      "name": "python3"
    }
  },
  "cells": [
    {
      "cell_type": "markdown",
      "metadata": {
        "id": "view-in-github",
        "colab_type": "text"
      },
      "source": [
        "<a href=\"https://colab.research.google.com/github/adefirmanf/single-maze-rl/blob/release/Simple_Q_Learning.ipynb\" target=\"_parent\"><img src=\"https://colab.research.google.com/assets/colab-badge.svg\" alt=\"Open In Colab\"/></a>"
      ]
    },
    {
      "cell_type": "markdown",
      "metadata": {
        "id": "cAsP10RXI3HW"
      },
      "source": [
        "Let's build simple game that has a grid with 1 row only. \n",
        "\n",
        "Here the idea : \n",
        "![Screen Shot 2021-03-11 at 22.01.26.png](data:image/png;base64,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)\n",
        "\n",
        "\n",
        "\n"
      ]
    },
    {
      "cell_type": "markdown",
      "metadata": {
        "id": "ie2RDF1VKDRi"
      },
      "source": [
        "Assume we have a Robot that should reach the Goal without touching the Trap. The robot only have 2 actions, left & right.\n",
        "\n",
        "Let's convert the environment (grid) into the matrix. \n",
        "Environment (State) : <br>\n",
        "`S = [0,0,0,0,0,0,0,0]`\n",
        "\n",
        "Action : <br>\n",
        "`A = [0,0] `\n",
        "\n",
        "The value of Action could be 0 & 1. 0 = Left, 1 = Right.\n",
        "\n",
        "Since the formula for Q (Quality) is Q(s,a) so we can sum up into the 2D Matrix : <br> \n",
        "`[[actions], [actions], [actions], [actions], ...n[actions]`\n",
        "\n"
      ]
    },
    {
      "cell_type": "code",
      "metadata": {
        "id": "ZqpdXNs8uIpz"
      },
      "source": [
        "import numpy as np"
      ],
      "execution_count": null,
      "outputs": []
    },
    {
      "cell_type": "code",
      "metadata": {
        "id": "RyLYafH-uZCl"
      },
      "source": [
        "column = 8\n",
        "actions = ['left', 'right']\n",
        "\n",
        "q = np.zeros((column, len(actions)))\n"
      ],
      "execution_count": null,
      "outputs": []
    },
    {
      "cell_type": "code",
      "metadata": {
        "colab": {
          "base_uri": "https://localhost:8080/"
        },
        "id": "tu0jcdF9Ssjy",
        "outputId": "ec644614-29cd-4efa-eaed-9859c5cf721b"
      },
      "source": [
        "## Initialize Environment\n",
        "rewards = np.full((column), -1)\n",
        "\n",
        "rewards[0] =  -100\n",
        "rewards[4] = 100\n",
        "\n",
        "print(rewards)"
      ],
      "execution_count": null,
      "outputs": [
        {
          "output_type": "stream",
          "text": [
            "[-100   -1   -1   -1  100   -1   -1   -1]\n"
          ],
          "name": "stdout"
        }
      ]
    },
    {
      "cell_type": "code",
      "metadata": {
        "colab": {
          "base_uri": "https://localhost:8080/"
        },
        "id": "zkuDbYozTbog",
        "outputId": "e665a1ae-b53e-4061-d094-3f026ffc0eaa"
      },
      "source": [
        "## Define functions\n",
        "def is_available_state(c):\n",
        "  ## Boundaries check to avoid index out of range\n",
        "  if rewards[c] == -1:\n",
        "    return True \n",
        "  else :\n",
        "    return False\n",
        "\n",
        "## Get Starting Location \n",
        "def get_starting_location():\n",
        "  current_column = np.random.randint(column)\n",
        "  while not is_available_state(current_column):\n",
        "    current_column = np.random.randint(column)\n",
        "  return current_column\n",
        "\n",
        "## Get Next Actions \n",
        "epiloch = 0.9\n",
        "def get_next_actions(column, epiloch):\n",
        "  rand = np.random.random()\n",
        "  if rand < epiloch:\n",
        "    i_action = np.argmax(q[column])\n",
        "  else : \n",
        "    i_action = np.random.randint(len(actions))\n",
        "  return i_action\n",
        "\n",
        "def get_next_locations(column_pos, action):\n",
        "  ## If actions going to the left, column - 1 => Start pos : [0,0,1,0] Action pos : [0,1,0,0]\n",
        "  ## If actions going to the right, column + 1  => Start pos : [0,1,0,0] Action pos : [0,0,1,0]\n",
        "  new_column_pos = column_pos\n",
        "  if action == 0 and column_pos > 0 and column_pos < column: ## left\n",
        "    new_column_pos -= 1 \n",
        "  if action == 1 and column_pos > 0 and column_pos < column: ## right\n",
        "    if column_pos != (column - 1):\n",
        "      new_column_pos += 1\n",
        "  return new_column_pos\n",
        "\n",
        "def get_shortest_path(column_pos):\n",
        "  if not is_available_state(column_pos):\n",
        "    return []\n",
        "  else:\n",
        "    path = []\n",
        "    current_position = column_pos\n",
        "    path.append([current_position])\n",
        "\n",
        "    while is_available_state(current_position):\n",
        "      index_actions = get_next_actions(current_position, 1.)\n",
        "      current_position = get_next_locations(current_position, index_actions)\n",
        "      path.append([current_position])\n",
        "    return path\n",
        "\n",
        "## Since our QValue doesn't has any value, \n",
        "## our argmax inside next_actions function always return 0 \n",
        "## The output always [left, left]\n",
        "print(get_shortest_path(3))\n"
      ],
      "execution_count": null,
      "outputs": [
        {
          "output_type": "stream",
          "text": [
            "[[3], [2], [1], [0]]\n"
          ],
          "name": "stdout"
        }
      ]
    },
    {
      "cell_type": "code",
      "metadata": {
        "colab": {
          "base_uri": "https://localhost:8080/"
        },
        "id": "gA4YPdgCyv1T",
        "outputId": "611f24a3-dd06-42ee-ec0c-7ebe32cdf450"
      },
      "source": [
        "epsilion = 0.9\n",
        "discount_factor = 0.9\n",
        "learning_rate = 0.9\n",
        "\n",
        "for episode in range(100):\n",
        "  column_index = get_starting_location()\n",
        "  \n",
        "  while is_available_state(column_index):\n",
        "    action_index = get_next_actions(column_index, epsilion)\n",
        "    old_column_index = column_index\n",
        "\n",
        "    column_index = get_next_locations(column_index, action_index)\n",
        "    reward = rewards[column_index]\n",
        "    old_q_value = q[old_column_index][action_index]\n",
        "\n",
        "    temporal_difference = reward + (discount_factor * np.max(q[column_index])) - old_q_value\n",
        "    new_q_value = old_q_value + (learning_rate * temporal_difference)\n",
        "    q[old_column_index][action_index] = new_q_value\n",
        "\n",
        "\n",
        "print(q)\n",
        "print('Training complete!')\n"
      ],
      "execution_count": null,
      "outputs": [
        {
          "output_type": "stream",
          "text": [
            "[[  0.           0.        ]\n",
            " [-99.9         79.1       ]\n",
            " [ 70.1899013   89.        ]\n",
            " [ 79.01926174 100.        ]\n",
            " [  0.           0.        ]\n",
            " [100.          78.309     ]\n",
            " [ 89.          63.081     ]\n",
            " [ 79.1          0.        ]]\n",
            "Training complete!\n"
          ],
          "name": "stdout"
        }
      ]
    },
    {
      "cell_type": "code",
      "metadata": {
        "id": "n8lmXYJDy1xZ",
        "colab": {
          "base_uri": "https://localhost:8080/"
        },
        "outputId": "6b21a7f6-be07-4272-adaa-3ccc0d93a7bd"
      },
      "source": [
        "print(get_shortest_path(7))\n",
        "print(get_shortest_path(1))"
      ],
      "execution_count": null,
      "outputs": [
        {
          "output_type": "stream",
          "text": [
            "[[7], [6], [5], [4]]\n",
            "[[1], [2], [3], [4]]\n"
          ],
          "name": "stdout"
        }
      ]
    }
  ]
}